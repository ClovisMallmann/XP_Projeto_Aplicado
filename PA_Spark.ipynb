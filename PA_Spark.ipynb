{
  "nbformat": 4,
  "nbformat_minor": 0,
  "metadata": {
    "colab": {
      "provenance": [],
      "authorship_tag": "ABX9TyPegXE0ndr1EkpCwf5l9XWu",
      "include_colab_link": true
    },
    "kernelspec": {
      "name": "python3",
      "display_name": "Python 3"
    },
    "language_info": {
      "name": "python"
    }
  },
  "cells": [
    {
      "cell_type": "markdown",
      "metadata": {
        "id": "view-in-github",
        "colab_type": "text"
      },
      "source": [
        "<a href=\"https://colab.research.google.com/github/ClovisMallmann/XP_Projeto_Aplicado/blob/main/PA_Spark.ipynb\" target=\"_parent\"><img src=\"https://colab.research.google.com/assets/colab-badge.svg\" alt=\"Open In Colab\"/></a>"
      ]
    },
    {
      "cell_type": "code",
      "execution_count": 1,
      "metadata": {
        "colab": {
          "base_uri": "https://localhost:8080/"
        },
        "id": "WIFIzFcUugnu",
        "outputId": "78e20016-9b7e-4abd-baea-73cc87b25b6d"
      },
      "outputs": [
        {
          "output_type": "stream",
          "name": "stdout",
          "text": [
            "Collecting pyspark\n",
            "  Downloading pyspark-3.5.0.tar.gz (316.9 MB)\n",
            "\u001b[2K     \u001b[90m━━━━━━━━━━━━━━━━━━━━━━━━━━━━━━━━━━━━━━━━\u001b[0m \u001b[32m316.9/316.9 MB\u001b[0m \u001b[31m4.2 MB/s\u001b[0m eta \u001b[36m0:00:00\u001b[0m\n",
            "\u001b[?25h  Preparing metadata (setup.py) ... \u001b[?25l\u001b[?25hdone\n",
            "Requirement already satisfied: py4j==0.10.9.7 in /usr/local/lib/python3.10/dist-packages (from pyspark) (0.10.9.7)\n",
            "Building wheels for collected packages: pyspark\n",
            "  Building wheel for pyspark (setup.py) ... \u001b[?25l\u001b[?25hdone\n",
            "  Created wheel for pyspark: filename=pyspark-3.5.0-py2.py3-none-any.whl size=317425344 sha256=a9198743c98b73c40ec445f20b5334a966d1774c041980f690de7ccebf206001\n",
            "  Stored in directory: /root/.cache/pip/wheels/41/4e/10/c2cf2467f71c678cfc8a6b9ac9241e5e44a01940da8fbb17fc\n",
            "Successfully built pyspark\n",
            "Installing collected packages: pyspark\n",
            "Successfully installed pyspark-3.5.0\n"
          ]
        }
      ],
      "source": [
        "pip install pyspark"
      ]
    },
    {
      "cell_type": "code",
      "source": [
        "#Carregamendo do Google drive para leitura dos Datasets\n",
        "from google.colab import drive\n",
        "drive.mount('/content/drive')"
      ],
      "metadata": {
        "colab": {
          "base_uri": "https://localhost:8080/"
        },
        "id": "Wq5IUuepzYbN",
        "outputId": "88c124ba-4ff3-4f0d-ed99-258b4992afbd"
      },
      "execution_count": 10,
      "outputs": [
        {
          "output_type": "stream",
          "name": "stdout",
          "text": [
            "Mounted at /content/drive\n"
          ]
        }
      ]
    },
    {
      "cell_type": "code",
      "source": [
        "from pyspark.sql import SparkSession\n",
        "from pyspark.sql.types import StringType, DateType, FloatType\n",
        "\n",
        "import pandas"
      ],
      "metadata": {
        "id": "8psK32PeulTp"
      },
      "execution_count": 20,
      "outputs": []
    },
    {
      "cell_type": "code",
      "source": [
        "spark = SparkSession.builder.appName(\"Projeto Aplicado - XP\").getOrCreate()"
      ],
      "metadata": {
        "id": "aN7Erqwxu5KP"
      },
      "execution_count": 12,
      "outputs": []
    },
    {
      "cell_type": "code",
      "source": [
        "tab_comportamentos_xls = pandas.read_excel('/content/drive/MyDrive/Colab Notebooks/XP_PA/Datasets/registro_comportamentos.xlsx')\n",
        "tab_fraldas = pandas.read_csv('/content/drive/MyDrive/Colab Notebooks/XP_PA/Datasets/registro_fraldas.csv', sep=';')\n",
        "tab_medicamentos_xls = pandas.read_excel('/content/drive/MyDrive/Colab Notebooks/XP_PA/Datasets/registro_medicamentos.xlsx')"
      ],
      "metadata": {
        "id": "inw8mokMvG5S"
      },
      "execution_count": 14,
      "outputs": []
    },
    {
      "cell_type": "code",
      "source": [
        "dataset_comportamentos = spark.createDataFrame(tab_comportamentos_xls);\n",
        "dataset_fraldas = spark.createDataFrame(tab_fraldas);\n",
        "dataset_medicamentos = spark.createDataFrame(tab_medicamentos_xls);\n",
        "\n",
        "\n",
        "\n"
      ],
      "metadata": {
        "id": "NP6GKWQPwCQi"
      },
      "execution_count": 17,
      "outputs": []
    },
    {
      "cell_type": "markdown",
      "source": [
        "# **1 - Conhecendo os datasets**"
      ],
      "metadata": {
        "id": "xmY83xwo0D-P"
      }
    },
    {
      "cell_type": "code",
      "source": [
        "dataset_comportamentos.printSchema()\n",
        "dataset_fraldas.printSchema()\n",
        "dataset_medicamentos.printSchema()"
      ],
      "metadata": {
        "colab": {
          "base_uri": "https://localhost:8080/"
        },
        "id": "-7ym8gvXzvqD",
        "outputId": "898fe9ed-4978-49a6-a57b-592112a51017"
      },
      "execution_count": 19,
      "outputs": [
        {
          "output_type": "stream",
          "name": "stdout",
          "text": [
            "root\n",
            " |-- DATA: timestamp (nullable = true)\n",
            " |-- c_a: long (nullable = true)\n",
            "\n",
            "root\n",
            " |-- DATA: string (nullable = true)\n",
            " |-- f_1: long (nullable = true)\n",
            " |-- f_2: long (nullable = true)\n",
            "\n",
            "root\n",
            " |-- DATA: timestamp (nullable = true)\n",
            " |-- m_1: long (nullable = true)\n",
            " |-- m_2: long (nullable = true)\n",
            " |-- m_3: long (nullable = true)\n",
            " |-- m_4: long (nullable = true)\n",
            " |-- Unnamed: 5: double (nullable = true)\n",
            " |-- Unnamed: 6: double (nullable = true)\n",
            " |-- Unnamed: 7: double (nullable = true)\n",
            " |-- Unnamed: 8: double (nullable = true)\n",
            " |-- Unnamed: 9: string (nullable = true)\n",
            "\n"
          ]
        }
      ]
    },
    {
      "cell_type": "markdown",
      "source": [
        "# *1.1 - Tratando as colunas dos datasets que estão fora do padrão*"
      ],
      "metadata": {
        "id": "lddLpRQ60uWl"
      }
    },
    {
      "cell_type": "code",
      "source": [
        "#Coluna DATA para DateType.\n",
        "#Colunas de LONG para INT.\n",
        "#Exclusão de dados desnecessários.\n",
        "\n",
        "\n",
        "#Em comportamentos\n",
        "\n",
        "comportamentos = dataset_comportamentos \\\n",
        "                .withColumn(\"DATA\", dataset_comportamentos[\"DATA\"]\n",
        "                            .cast(DateType())) \\\n",
        "                .withColumn(\"c_a\", dataset_comportamentos[\"c_a\"]\n",
        "                            .cast('Int'))\n",
        "\n",
        "comportamentos.printSchema()"
      ],
      "metadata": {
        "colab": {
          "base_uri": "https://localhost:8080/"
        },
        "id": "JsWztfCOzxTT",
        "outputId": "fe1b6977-0912-4232-f7d0-9211f1ac2526"
      },
      "execution_count": 31,
      "outputs": [
        {
          "output_type": "stream",
          "name": "stdout",
          "text": [
            "root\n",
            " |-- DATA: date (nullable = true)\n",
            " |-- c_a: integer (nullable = true)\n",
            "\n"
          ]
        }
      ]
    },
    {
      "cell_type": "code",
      "source": [
        "#Em Fraldas\n",
        "\n",
        "Fraldas = dataset_fraldas \\\n",
        "                .withColumn(\"DATA\", dataset_fraldas[\"DATA\"]\n",
        "                            .cast(DateType())) \\\n",
        "                .withColumn(\"f_1\", dataset_fraldas[\"f_1\"]\n",
        "                            .cast('Int'))  \\\n",
        "                .withColumn(\"f_2\", dataset_fraldas[\"f_2\"]\n",
        "                            .cast('Int'))  \\\n",
        "\n",
        "Fraldas.printSchema()"
      ],
      "metadata": {
        "colab": {
          "base_uri": "https://localhost:8080/"
        },
        "id": "nUBHx5gB41Mg",
        "outputId": "2338a1ba-a8f2-48d9-b090-ed3986000a66"
      },
      "execution_count": 33,
      "outputs": [
        {
          "output_type": "stream",
          "name": "stdout",
          "text": [
            "root\n",
            " |-- DATA: date (nullable = true)\n",
            " |-- f_1: integer (nullable = true)\n",
            " |-- f_2: integer (nullable = true)\n",
            "\n"
          ]
        }
      ]
    },
    {
      "cell_type": "code",
      "source": [
        "#Em medicamentos\n",
        "\n",
        "Medicamentos = dataset_medicamentos \\\n",
        "                .withColumn(\"DATA\", dataset_medicamentos[\"DATA\"]\n",
        "                            .cast(DateType())) \\\n",
        "                .withColumn(\"m_1\", dataset_medicamentos[\"m_1\"]\n",
        "                            .cast('Int'))  \\\n",
        "                .withColumn(\"m_2\", dataset_medicamentos[\"m_2\"]\n",
        "                            .cast('Int'))  \\\n",
        "                .withColumn(\"m_3\", dataset_medicamentos[\"m_3\"]\n",
        "                            .cast('Int'))  \\\n",
        "                .withColumn(\"m_4\", dataset_medicamentos[\"m_4\"]\n",
        "                            .cast('Int'))  \\\n",
        "\n",
        "Medicamentos.printSchema()"
      ],
      "metadata": {
        "colab": {
          "base_uri": "https://localhost:8080/"
        },
        "id": "gmJRPCs45XQ1",
        "outputId": "6dbfa592-73d1-48c5-efa0-f13991d1cbad"
      },
      "execution_count": 34,
      "outputs": [
        {
          "output_type": "stream",
          "name": "stdout",
          "text": [
            "root\n",
            " |-- DATA: date (nullable = true)\n",
            " |-- m_1: integer (nullable = true)\n",
            " |-- m_2: integer (nullable = true)\n",
            " |-- m_3: integer (nullable = true)\n",
            " |-- m_4: integer (nullable = true)\n",
            " |-- Unnamed: 5: double (nullable = true)\n",
            " |-- Unnamed: 6: double (nullable = true)\n",
            " |-- Unnamed: 7: double (nullable = true)\n",
            " |-- Unnamed: 8: double (nullable = true)\n",
            " |-- Unnamed: 9: string (nullable = true)\n",
            "\n"
          ]
        }
      ]
    },
    {
      "cell_type": "code",
      "source": [
        "#Em medicamentos, exclusão das colunas desnecessárias\n",
        "\n",
        "Medicamentos = Medicamentos.drop(*('Unnamed: 5', 'Unnamed: 6','Unnamed: 7','Unnamed: 8','Unnamed: 9'))\n",
        "\n",
        "Medicamentos.printSchema()"
      ],
      "metadata": {
        "colab": {
          "base_uri": "https://localhost:8080/"
        },
        "id": "mt8Zro4Y6xJa",
        "outputId": "26cef412-65d5-43b0-99a6-d1330f3aa7fe"
      },
      "execution_count": 35,
      "outputs": [
        {
          "output_type": "stream",
          "name": "stdout",
          "text": [
            "root\n",
            " |-- DATA: date (nullable = true)\n",
            " |-- m_1: integer (nullable = true)\n",
            " |-- m_2: integer (nullable = true)\n",
            " |-- m_3: integer (nullable = true)\n",
            " |-- m_4: integer (nullable = true)\n",
            "\n"
          ]
        }
      ]
    },
    {
      "cell_type": "code",
      "source": [],
      "metadata": {
        "id": "oY8NEXYj7nKn"
      },
      "execution_count": null,
      "outputs": []
    }
  ]
}