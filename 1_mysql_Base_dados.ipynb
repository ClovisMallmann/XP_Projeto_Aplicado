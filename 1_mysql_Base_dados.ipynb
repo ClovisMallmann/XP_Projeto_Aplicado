{
  "nbformat": 4,
  "nbformat_minor": 0,
  "metadata": {
    "colab": {
      "provenance": [],
      "mount_file_id": "1Eeir39C9mklRIa72umPbd9ZjIGO_19ak",
      "authorship_tag": "ABX9TyOZ/C8LJSKC9aajK3lX9/aY",
      "include_colab_link": true
    },
    "kernelspec": {
      "name": "python3",
      "display_name": "Python 3"
    },
    "language_info": {
      "name": "python"
    }
  },
  "cells": [
    {
      "cell_type": "markdown",
      "metadata": {
        "id": "view-in-github",
        "colab_type": "text"
      },
      "source": [
        "<a href=\"https://colab.research.google.com/github/ClovisMallmann/XP_Projeto_Aplicado/blob/main/1_mysql_Base_dados.ipynb\" target=\"_parent\"><img src=\"https://colab.research.google.com/assets/colab-badge.svg\" alt=\"Open In Colab\"/></a>"
      ]
    },
    {
      "cell_type": "code",
      "execution_count": null,
      "metadata": {
        "id": "JjlbbRMyXr4Q"
      },
      "outputs": [],
      "source": [
        "!pip install mysql-connector-python\n",
        "!apt-get -y install mysql-server\n",
        "!service mysql start\n"
      ]
    },
    {
      "cell_type": "code",
      "source": [
        "!mysql -e \"ALTER USER 'root'@'localhost' IDENTIFIED WITH 'mysql_native_password' BY 'root';FLUSH PRIVILEGES;\""
      ],
      "metadata": {
        "id": "OqjrVgrmYmTf"
      },
      "execution_count": null,
      "outputs": []
    },
    {
      "cell_type": "code",
      "source": [
        "import mysql.connector\n",
        "\n",
        "# Create a connection to the MySQL server\n",
        "conn = mysql.connector.connect(user='root', password='root', host='localhost')\n",
        "\n",
        "# Create a cursor to interact with the MySQL server\n",
        "cursor = conn.cursor()"
      ],
      "metadata": {
        "id": "kCZfqGbiY2PP"
      },
      "execution_count": null,
      "outputs": []
    },
    {
      "cell_type": "markdown",
      "source": [
        "# **1 - Criando o BD \"Base_dados\"**"
      ],
      "metadata": {
        "id": "SHSjwinHrQEb"
      }
    },
    {
      "cell_type": "code",
      "source": [
        "# Create a new database named 'Base_dados'\n",
        "cursor.execute(\"CREATE DATABASE IF NOT EXISTS Base_dados\")\n",
        "\n",
        "# Switch to the 'Base_dados' database\n",
        "cursor.execute(\"USE Base_dados\")\n",
        "\n"
      ],
      "metadata": {
        "id": "o2nhDZHjZH8Z"
      },
      "execution_count": null,
      "outputs": []
    },
    {
      "cell_type": "markdown",
      "source": [
        "***1.1 - Criar tab_clientes***"
      ],
      "metadata": {
        "id": "Qc-eYhKEsXNy"
      }
    },
    {
      "cell_type": "code",
      "source": [
        "conn = mysql.connector.connect(user='root', password='root', host='localhost', database='Base_dados')\n",
        "cursor = conn.cursor()\n",
        "\n",
        "cursor.execute('''\n",
        "DROP TABLE IF EXISTS `tab_clientes`;\n",
        "\n",
        "CREATE TABLE `tab_clientes` (\n",
        "  `id` mediumint(8) unsigned NOT NULL auto_increment,\n",
        "  `Cliente_id` mediumint,\n",
        "  `Nome` varchar(255) default NULL,\n",
        "  `Idade` mediumint default NULL,\n",
        "  `Uf` varchar(50) default NULL,\n",
        "  `Escolaridade` TEXT default NULL,\n",
        "  `Renda` mediumint default NULL,\n",
        "  `Civil` TEXT default NULL,\n",
        "  PRIMARY KEY (`id`)\n",
        ") AUTO_INCREMENT=1;\n",
        "''')\n",
        "\n"
      ],
      "metadata": {
        "id": "TZv6YlLZsTO2"
      },
      "execution_count": null,
      "outputs": []
    },
    {
      "cell_type": "code",
      "source": [
        "#Dados aleatórios para popular a tabela clientes\n",
        "inserir_clientes = [\n",
        "    (1,\"Roth May\",82,\"RS\",\"Medio\",6515,\"Separado\"),\n",
        "  (2,\"Sharon Hebert\",70,\"PE\",\"Medio\",5943,\"Separado\"),\n",
        "  (3,\"Felix Cochran\",73,\"PR\",\"Medio\",6264,\"Casado\"),\n",
        "  (4,\"Xanthus Schwartz\",71,\"GO\",\"Medio\",4062,\"Solteiro\"),\n",
        "  (5,\"Vielka Mcintosh\",61,\"GO\",\"Medio\",8316,\"Viuvo\"),\n",
        "  (6,\"Ivor Alvarez\",60,\"PR\",\"Primario\",4379,\"Casado\"),\n",
        "  (7,\"Jordan Mcdonald\",78,\"SP\",\"Medio\",4740,\"Casado\"),\n",
        "  (8,\"Denton Cochran\",80,\"SC\",\"Medio\",4569,\"Casado\"),\n",
        "  (9,\"Caesar Hardin\",95,\"CE\",\"Medio\",7315,\"Viuvo\"),\n",
        "  (10,\"Jack Dotson\",90,\"MA\",\"Primario\",2985,\"Separado\"),\n",
        "  (11,\"Clark Head\",98,\"BA\",\"Superior\",4370,\"Separado\"),\n",
        "  (12,\"Sage Schmidt\",61,\"CE\",\"Primario\",5987,\"Separado\"),\n",
        "  (13,\"Castor Robbins\",89,\"PB\",\"Superior\",6707,\"Casado\"),\n",
        "  (14,\"Drake Frank\",95,\"PB\",\"Medio\",6091,\"Casado\"),\n",
        "  (15,\"Jordan Berry\",94,\"SC\",\"Medio\",7184,\"Casado\"),\n",
        "  (16,\"Dawn Knight\",93,\"CE\",\"Primario\",6481,\"Casado\"),\n",
        "  (17,\"Savannah Branch\",86,\"SP\",\"Primario\",5874,\"Solteiro\"),\n",
        "  (18,\"Declan Cruz\",78,\"PA\",\"Medio\",8040,\"Separado\"),\n",
        "  (19,\"Leilani Mcdaniel\",64,\"PA\",\"Primario\",7294,\"Viuvo\"),\n",
        "  (20,\"Zachary Cannon\",78,\"RJ\",\"Medio\",4741,\"Casado\"),\n",
        "  (21,\"Rhea Deleon\",89,\"CE\",\"Superior\",4645,\"Viuvo\"),\n",
        "  (22,\"Boris Yang\",72,\"SP\",\"Medio\",7487,\"Solteiro\"),\n",
        "  (23,\"Kai Watts\",93,\"SC\",\"Medio\",7380,\"Casado\"),\n",
        "  (24,\"Ori Hartman\",65,\"MA\",\"Medio\",8507,\"Casado\"),\n",
        "  (25,\"Jayme Downs\",98,\"CE\",\"Medio\",4432,\"Separado\"),\n",
        "  (26,\"Castor Roberts\",91,\"PB\",\"Superior\",8241,\"Solteiro\"),\n",
        "  (27,\"Kato Bass\",95,\"MA\",\"Superior\",4811,\"Casado\"),\n",
        "  (28,\"Gil Singleton\",70,\"PB\",\"Medio\",4158,\"Separado\"),\n",
        "  (29,\"Vaughan Joyner\",72,\"RJ\",\"Superior\",4855,\"Solteiro\"),\n",
        "  (30,\"Zenaida Myers\",68,\"PB\",\"Primario\",3829,\"Solteiro\"),\n",
        "  (31,\"Conan Flores\",61,\"SP\",\"Medio\",7590,\"Separado\"),\n",
        "  (32,\"Fritz Becker\",74,\"BA\",\"Primario\",6931,\"Solteiro\"),\n",
        "  (33,\"Rahim Lang\",98,\"RS\",\"Medio\",4008,\"Separado\"),\n",
        "  (34,\"Ahmed Rowland\",78,\"RJ\",\"Superior\",8378,\"Viuvo\"),\n",
        "  (35,\"Vaughan Case\",86,\"RJ\",\"Primario\",6351,\"Solteiro\"),\n",
        "  (36,\"Jared Wallace\",69,\"PE\",\"Primario\",6336,\"Separado\"),\n",
        "  (37,\"Carla Vance\",97,\"PB\",\"Primario\",7792,\"Casado\"),\n",
        "  (38,\"Cody Marquez\",67,\"MG\",\"Primario\",7120,\"Solteiro\"),\n",
        "  (39,\"Allegra Hull\",68,\"RJ\",\"Primario\",7835,\"Casado\"),\n",
        "  (40,\"Palmer Nolan\",92,\"BA\",\"Medio\",2591,\"Casado\"),\n",
        "  (41,\"Aaron Dawson\",82,\"SP\",\"Medio\",3278,\"Casado\"),\n",
        "  (42,\"Jelani Hopkins\",68,\"CE\",\"Primario\",4755,\"Viuvo\"),\n",
        "  (43,\"Nehru Chan\",90,\"SC\",\"Medio\",3667,\"Casado\"),\n",
        "  (44,\"Marshall Miles\",72,\"PB\",\"Medio\",4258,\"Solteiro\"),\n",
        "  (45,\"Dalton Wilkins\",96,\"CE\",\"Primario\",7799,\"Casado\"),\n",
        "  (46,\"Graham Wong\",60,\"RJ\",\"Medio\",4451,\"Casado\"),\n",
        "  (47,\"Drew Mckay\",79,\"BA\",\"Primario\",8552,\"Casado\"),\n",
        "  (48,\"Sean Wilder\",64,\"BA\",\"Primario\",4922,\"Casado\"),\n",
        "  (49,\"Wang Butler\",61,\"CE\",\"Superior\",8792,\"Separado\"),\n",
        "  (50,\"Uriel Jarvis\",83,\"MG\",\"Primario\",7478,\"Casado\"),\n",
        "  (51,\"Whilemina Dillon\",77,\"PE\",\"Medio\",4533,\"Casado\"),\n",
        "  (52,\"Hannah Yang\",63,\"BA\",\"Primario\",8469,\"Casado\"),\n",
        "  (53,\"Stacey Mccray\",81,\"MA\",\"Primario\",8416,\"Separado\"),\n",
        "  (54,\"Raphael Thomas\",75,\"PR\",\"Medio\",4700,\"Viuvo\"),\n",
        "  (55,\"Risa Peck\",91,\"MG\",\"Superior\",3324,\"Separado\"),\n",
        "  (56,\"Rashad Hinton\",69,\"RJ\",\"Superior\",8335,\"Viuvo\"),\n",
        "  (57,\"Brandon Kaufman\",94,\"PA\",\"Primario\",8539,\"Casado\"),\n",
        "  (58,\"Herman Fisher\",66,\"RS\",\"Primario\",8446,\"Viuvo\"),\n",
        "  (59,\"Hedwig O'donnell\",62,\"PB\",\"Medio\",7533,\"Separado\"),\n",
        "  (60,\"Plato Lloyd\",78,\"MA\",\"Superior\",7039,\"Separado\"),\n",
        "  (61,\"Evangeline Shannon\",74,\"PR\",\"Medio\",8935,\"Separado\"),\n",
        "  (62,\"Levi Macdonald\",70,\"MA\",\"Medio\",3679,\"Casado\"),\n",
        "  (63,\"Dora Knowles\",62,\"PE\",\"Medio\",8193,\"Separado\"),\n",
        "  (64,\"Eagan Mcbride\",82,\"GO\",\"Medio\",8321,\"Casado\"),\n",
        "  (65,\"Gillian Guerrero\",78,\"CE\",\"Medio\",3914,\"Separado\"),\n",
        "  (66,\"Chava Schroeder\",89,\"PA\",\"Superior\",3533,\"Separado\"),\n",
        "  (67,\"Hilda Donaldson\",62,\"RS\",\"Medio\",3449,\"Casado\"),\n",
        "  (68,\"Leigh Hancock\",70,\"BA\",\"Superior\",8604,\"Solteiro\"),\n",
        "  (69,\"Jennifer Camacho\",88,\"SP\",\"Primario\",5464,\"Separado\"),\n",
        "  (70,\"Hayfa Foster\",66,\"GO\",\"Superior\",4887,\"Separado\"),\n",
        "  (71,\"Jerome Welch\",86,\"RJ\",\"Superior\",8252,\"Solteiro\"),\n",
        "  (72,\"Roth Hoffman\",70,\"GO\",\"Primario\",4012,\"Viuvo\"),\n",
        "  (73,\"Hoyt Weber\",61,\"PB\",\"Medio\",5943,\"Casado\"),\n",
        "  (74,\"Martina Bowman\",94,\"PB\",\"Primario\",4889,\"Viuvo\"),\n",
        "  (75,\"Frances Freeman\",71,\"PE\",\"Medio\",4568,\"Casado\"),\n",
        "  (76,\"Scott Castro\",64,\"GO\",\"Primario\",7870,\"Viuvo\"),\n",
        "  (77,\"Kylie Harvey\",73,\"PE\",\"Superior\",8403,\"Casado\"),\n",
        "  (78,\"Lyle Odom\",95,\"MA\",\"Medio\",8826,\"Viuvo\"),\n",
        "  (79,\"Isadora Griffin\",78,\"MG\",\"Primario\",4513,\"Solteiro\"),\n",
        "  (80,\"Angelica Stevens\",74,\"MG\",\"Superior\",4772,\"Casado\"),\n",
        "  (81,\"Erica Gibbs\",84,\"CE\",\"Primario\",3480,\"Separado\"),\n",
        "  (82,\"Julian Dean\",82,\"MG\",\"Primario\",5250,\"Casado\"),\n",
        "  (83,\"Leandra Huffman\",62,\"SP\",\"Primario\",3607,\"Casado\"),\n",
        "  (84,\"Lee Soto\",67,\"BA\",\"Superior\",2932,\"Casado\"),\n",
        "  (85,\"Grant Boyer\",68,\"BA\",\"Medio\",3564,\"Separado\"),\n",
        "  (86,\"Jocelyn Wynn\",82,\"MG\",\"Superior\",4480,\"Separado\"),\n",
        "  (87,\"Luke Cole\",63,\"MG\",\"Medio\",4364,\"Separado\"),\n",
        "  (88,\"Harper Bryan\",81,\"SP\",\"Primario\",5435,\"Casado\"),\n",
        "  (89,\"Alexander Mclean\",88,\"RS\",\"Medio\",8392,\"Solteiro\"),\n",
        "  (90,\"Daryl Petty\",60,\"MA\",\"Medio\",2609,\"Solteiro\"),\n",
        "  (91,\"Kelsie Bowers\",64,\"CE\",\"Medio\",4501,\"Solteiro\"),\n",
        "  (92,\"Celeste Gates\",66,\"PA\",\"Superior\",3996,\"Solteiro\"),\n",
        "  (93,\"Ramona Rosario\",72,\"PE\",\"Medio\",2569,\"Viuvo\"),\n",
        "  (94,\"Allen Harrison\",90,\"SP\",\"Medio\",3832,\"Casado\"),\n",
        "  (95,\"Shelby Cash\",81,\"PB\",\"Medio\",5712,\"Casado\"),\n",
        "  (96,\"Aquila Michael\",90,\"RJ\",\"Medio\",6149,\"Separado\"),\n",
        "  (97,\"Natalie Cole\",95,\"PE\",\"Superior\",4169,\"Separado\"),\n",
        "  (98,\"Hamilton Hunter\",79,\"MG\",\"Superior\",4113,\"Casado\"),\n",
        "  (99,\"Ava Lynch\",73,\"GO\",\"Primario\",5362,\"Solteiro\"),\n",
        "  (100,\"Minerva Alford\",85,\"PE\",\"Superior\",3764,\"Solteiro\")\n",
        "]\n"
      ],
      "metadata": {
        "id": "X5t572xzbdQK"
      },
      "execution_count": null,
      "outputs": []
    },
    {
      "cell_type": "code",
      "source": [
        "#POVOAMENTO DA TABELA\n",
        "\n",
        "conn = mysql.connector.connect(user='root', password='root', host='localhost', database='Base_dados')\n",
        "cursor = conn.cursor()\n",
        "\n",
        "# Inserindo os dados na tabela criada tab_clientes\n",
        "query = \"INSERT INTO tab_clientes (Cliente_id, Nome, Idade, Uf, Escolaridade, Renda, Civil) VALUES ( %s, %s,%s, %s, %s,%s, %s)\"\n",
        "\n",
        "for registro in inserir_clientes:\n",
        "  cursor.execute(query, registro)\n",
        "\n",
        "conn.commit()\n",
        "\n",
        "cursor.close()\n",
        "conn.close()"
      ],
      "metadata": {
        "id": "07eiXnYfb2is"
      },
      "execution_count": null,
      "outputs": []
    },
    {
      "cell_type": "code",
      "source": [
        "#VERIFICAÇÃO DOS DADOS INSERIDOS\n",
        "\n",
        "conn = mysql.connector.connect(user='root', password='root', host='localhost', database='Base_dados')\n",
        "cursor = conn.cursor()\n",
        "\n",
        "# Verificando os dados com uma query.\n",
        "cursor.execute(\"SELECT * FROM tab_clientes\")\n",
        "\n",
        "# Buscando todos os dados e passando para variavel \"records\"\n",
        "records = cursor.fetchall()\n",
        "\n",
        "#Apresentando o que foi gravado\n",
        "for record in records:\n",
        "    print(record)\n",
        "\n",
        "cursor.close()\n",
        "conn.close()"
      ],
      "metadata": {
        "id": "nCRTP2Lnq6iE"
      },
      "execution_count": null,
      "outputs": []
    },
    {
      "cell_type": "markdown",
      "source": [
        "***1.2 - Criar a tabela Remedios***"
      ],
      "metadata": {
        "id": "MvPiF7YwsJ0B"
      }
    },
    {
      "cell_type": "code",
      "source": [
        "\n",
        "# Conectando\n",
        "conn = mysql.connector.connect(user='root', password='root', host='localhost', database='Base_dados')\n",
        "cursor = conn.cursor()\n",
        "\n",
        "# Cursor de interação\n",
        "cursor = conn.cursor()\n",
        "\n",
        "# Criar a tabela  'remedios'\n",
        "cursor.execute('''\n",
        "DROP TABLE IF EXISTS `tab_remedios`;\n",
        "\n",
        "CREATE TABLE `tab_remedios` (\n",
        "  `id` mediumint(8) unsigned NOT NULL auto_increment,\n",
        "  `Cliente_id` mediumint,\n",
        "  `Remedio` TEXT default NULL,\n",
        "  PRIMARY KEY (`id`)\n",
        ") AUTO_INCREMENT=1;\n",
        "''')\n"
      ],
      "metadata": {
        "id": "dtIXrM2ys7Uu"
      },
      "execution_count": null,
      "outputs": []
    },
    {
      "cell_type": "code",
      "source": [
        "#Dados aleatórios para popular a tabela clientes\n",
        "inserir_remedios = [\n",
        "    (1,\"Azitromicina Cefalexina Losartana Alprazolam\"),\n",
        "  (2,\"Azitromicina Cefalexina Losartana\"),\n",
        "  (3,\"Azitromicina\"),\n",
        "  (4,\"Azitromicina Cefalexina Losartana Alprazolam\"),\n",
        "  (5,\"Azitromicina Cefalexina\"),\n",
        "  (6,\"Azitromicina\"),\n",
        "  (7,\"Azitromicina Cefalexina Losartana Alprazolam\"),\n",
        "  (8,\"Azitromicina Cefalexina\"),\n",
        "  (9,\"Azitromicina Cefalexina\"),\n",
        "  (10,\"Azitromicina Cefalexina Losartana Alprazolam\"),\n",
        "  (11,\"Azitromicina Cefalexina Losartana Alprazolam Sinvastatina\"),\n",
        "  (12,\"Azitromicina Cefalexina\"),\n",
        "  (13,\"Azitromicina Cefalexina Losartana\"),\n",
        "  (14,\"Azitromicina\"),\n",
        "  (15,\"Azitromicina Cefalexina\"),\n",
        "  (16,\"Azitromicina Cefalexina Losartana\"),\n",
        "  (17,\"Azitromicina Cefalexina Losartana Alprazolam\"),\n",
        "  (18,\"Azitromicina Cefalexina\"),\n",
        "  (19,\"Azitromicina Cefalexina\"),\n",
        "  (20,\"Azitromicina\"),\n",
        "  (21,\"Azitromicina Cefalexina\"),\n",
        "  (22,\"Azitromicina Cefalexina Losartana Alprazolam Sinvastatina\"),\n",
        "  (23,\"Azitromicina Cefalexina Losartana Alprazolam\"),\n",
        "  (24,\"Azitromicina Cefalexina\"),\n",
        "  (25,\"Azitromicina Cefalexina\"),\n",
        "  (26,\"Azitromicina Cefalexina\"),\n",
        "  (27,\"Azitromicina Cefalexina\"),\n",
        "  (28,\"Azitromicina Cefalexina Losartana Alprazolam\"),\n",
        "  (29,\"Azitromicina Cefalexina\"),\n",
        "  (30,\"Azitromicina Cefalexina Losartana\"),\n",
        "  (31,\"Azitromicina Cefalexina Losartana Alprazolam\"),\n",
        "  (32,\"Azitromicina Cefalexina Losartana\"),\n",
        "  (33,\"Azitromicina Cefalexina Losartana Alprazolam\"),\n",
        "  (34,\"Azitromicina Cefalexina\"),\n",
        "  (35,\"Azitromicina Cefalexina Losartana Alprazolam\"),\n",
        "  (36,\"Azitromicina Cefalexina Losartana Alprazolam\"),\n",
        "  (37,\"Azitromicina\"),\n",
        "  (38,\"Azitromicina Cefalexina Losartana\"),\n",
        "  (39,\"Azitromicina Cefalexina\"),\n",
        "  (40,\"Azitromicina\"),\n",
        "  (41,\"Azitromicina Cefalexina\"),\n",
        "  (42,\"Azitromicina Cefalexina Losartana Alprazolam\"),\n",
        "  (43,\"Azitromicina Cefalexina Losartana\"),\n",
        "  (44,\"Azitromicina Cefalexina Losartana Alprazolam Sinvastatina\"),\n",
        "  (45,\"Azitromicina\"),\n",
        "  (46,\"Azitromicina Cefalexina Losartana\"),\n",
        "  (47,\"Azitromicina\"),\n",
        "  (48,\"Azitromicina Cefalexina Losartana Alprazolam\"),\n",
        "  (49,\"Azitromicina Cefalexina\"),\n",
        "  (50,\"Azitromicina\"),\n",
        "  (51,\"Azitromicina Cefalexina Losartana Alprazolam Sinvastatina\"),\n",
        "  (52,\"Azitromicina Cefalexina Losartana Alprazolam\"),\n",
        "  (53,\"Azitromicina Cefalexina\"),\n",
        "  (54,\"Azitromicina Cefalexina Losartana Alprazolam Sinvastatina\"),\n",
        "  (55,\"Azitromicina\"),\n",
        "  (56,\"Azitromicina Cefalexina Losartana\"),\n",
        "  (57,\"Azitromicina Cefalexina Losartana Alprazolam\"),\n",
        "  (58,\"Azitromicina Cefalexina Losartana Alprazolam\"),\n",
        "  (59,\"Azitromicina Cefalexina\"),\n",
        "  (60,\"Azitromicina Cefalexina Losartana Alprazolam\"),\n",
        "  (61,\"Azitromicina Cefalexina Losartana Alprazolam\"),\n",
        "  (62,\"Azitromicina Cefalexina Losartana Alprazolam\"),\n",
        "  (63,\"Azitromicina Cefalexina Losartana Alprazolam Sinvastatina\"),\n",
        "  (64,\"Azitromicina Cefalexina\"),\n",
        "  (65,\"Azitromicina Cefalexina Losartana\"),\n",
        "  (66,\"Azitromicina Cefalexina\"),\n",
        "  (67,\"Azitromicina Cefalexina\"),\n",
        "  (68,\"Azitromicina Cefalexina Losartana\"),\n",
        "  (69,\"Azitromicina\"),\n",
        "  (70,\"Azitromicina Cefalexina Losartana\"),\n",
        "  (71,\"Azitromicina\"),\n",
        "  (72,\"Azitromicina Cefalexina Losartana Alprazolam Sinvastatina\"),\n",
        "  (73,\"Azitromicina Cefalexina Losartana Alprazolam\"),\n",
        "  (74,\"Azitromicina Cefalexina Losartana Alprazolam\"),\n",
        "  (75,\"Azitromicina Cefalexina Losartana Alprazolam Sinvastatina\"),\n",
        "  (76,\"Azitromicina Cefalexina\"),\n",
        "  (77,\"Azitromicina Cefalexina Losartana\"),\n",
        "  (78,\"Azitromicina Cefalexina\"),\n",
        "  (79,\"Azitromicina Cefalexina\"),\n",
        "  (80,\"Azitromicina Cefalexina Losartana\"),\n",
        "  (81,\"Azitromicina Cefalexina\"),\n",
        "  (82,\"Azitromicina Cefalexina Losartana Alprazolam\"),\n",
        "  (83,\"Azitromicina Cefalexina Losartana Alprazolam\"),\n",
        "  (84,\"Azitromicina Cefalexina Losartana Alprazolam\"),\n",
        "  (85,\"Azitromicina Cefalexina Losartana Alprazolam\"),\n",
        "  (86,\"Azitromicina Cefalexina\"),\n",
        "  (87,\"Azitromicina Cefalexina Losartana Alprazolam\"),\n",
        "  (88,\"Azitromicina Cefalexina\"),\n",
        "  (89,\"Azitromicina Cefalexina Losartana Alprazolam\"),\n",
        "  (90,\"Azitromicina Cefalexina Losartana Alprazolam\"),\n",
        "  (91,\"Azitromicina Cefalexina Losartana\"),\n",
        "  (92,\"Azitromicina Cefalexina\"),\n",
        "  (93,\"Azitromicina Cefalexina\"),\n",
        "  (94,\"Azitromicina Cefalexina Losartana\"),\n",
        "  (95,\"Azitromicina Cefalexina Losartana Alprazolam\"),\n",
        "  (96,\"Azitromicina Cefalexina Losartana\"),\n",
        "  (97,\"Azitromicina\"),\n",
        "  (98,\"Azitromicina Cefalexina Losartana Alprazolam Sinvastatina\"),\n",
        "  (99,\"Azitromicina Cefalexina Losartana Alprazolam\"),\n",
        "  (100,\"Azitromicina Cefalexina Losartana Alprazolam\")\n",
        "]"
      ],
      "metadata": {
        "id": "p64iNc0J_e4F"
      },
      "execution_count": null,
      "outputs": []
    },
    {
      "cell_type": "code",
      "source": [
        "#POVOAMENTO DA TABELA\n",
        "\n",
        "conn = mysql.connector.connect(user='root', password='root', host='localhost', database='Base_dados')\n",
        "cursor = conn.cursor()\n",
        "\n",
        " #Inserindo os dados na tabela criada tab_sintomas\n",
        "query = \"INSERT INTO tab_remedios (Cliente_id, Remedio) VALUES ( %s,%s)\"\n",
        "\n",
        "for registro in inserir_remedios:\n",
        "  cursor.execute(query, registro)\n",
        "\n",
        "conn.commit()\n",
        "\n",
        "cursor.close()\n",
        "conn.close()"
      ],
      "metadata": {
        "id": "GzVliscauYwp"
      },
      "execution_count": null,
      "outputs": []
    },
    {
      "cell_type": "code",
      "source": [
        "#VERIFICAÇÃO DOS DADOS INSERIDOS\n",
        "\n",
        "conn = mysql.connector.connect(user='root', password='root', host='localhost', database='Base_dados')\n",
        "cursor = conn.cursor()\n",
        "\n",
        "# Verificando os dados com uma query.\n",
        "cursor.execute(\"SELECT * FROM tab_remedios\")\n",
        "\n",
        "# Buscando todos os dados e passando para variavel \"records\"\n",
        "records = cursor.fetchall()\n",
        "\n",
        "#Apresentando o que foi gravado\n",
        "for record in records:\n",
        "    print(record)\n",
        "\n",
        "cursor.close()\n",
        "conn.close()"
      ],
      "metadata": {
        "id": "4exIgy7sJYb6"
      },
      "execution_count": null,
      "outputs": []
    },
    {
      "cell_type": "markdown",
      "source": [
        "***1.3 - Criar a tabela sintomas***"
      ],
      "metadata": {
        "id": "w7AZ--4VCzmp"
      }
    },
    {
      "cell_type": "code",
      "source": [
        "# Conectando\n",
        "conn = mysql.connector.connect(user='root', password='root', host='localhost', database='Base_dados')\n",
        "cursor = conn.cursor()\n",
        "\n",
        "# Cursor de interação\n",
        "cursor = conn.cursor()\n",
        "\n",
        "# Criar a tabela  'Sintomas'\n",
        "cursor.execute('''\n",
        "DROP TABLE IF EXISTS `tab_sintomas`;\n",
        "\n",
        "CREATE TABLE `tab_sintomas` (\n",
        "  `id` mediumint(8) unsigned NOT NULL auto_increment,\n",
        "  `Sintoma` TEXT default NULL,\n",
        "  `Data` varchar(255),\n",
        "  `Cliente_id` mediumint default NULL,\n",
        "  PRIMARY KEY (`id`)\n",
        ") AUTO_INCREMENT=1;\n",
        "''')\n"
      ],
      "metadata": {
        "id": "JgXokGq3C6Ea"
      },
      "execution_count": null,
      "outputs": []
    },
    {
      "cell_type": "code",
      "source": [
        "#Dados aleatórios para popular a tabela sintomas\n",
        "inserir_sintomas = [\n",
        "    (\"Quedas_de_pressao Incontinencia_urinaria Insonia Vomito\",\"2022-04-09\",89),\n",
        "  (\"Quedas_de_pressao\",\"2022-11-20\",84),\n",
        "  (\"Quedas_de_pressao Incontinencia_urinaria Insonia Vomito\",\"2022-03-21\",67),\n",
        "  (\"Quedas_de_pressao\",\"2023-08-01\",87),\n",
        "  (\"Quedas_de_pressao\",\"2021-07-31\",93),\n",
        "  (\"Quedas_de_pressao Incontinencia_urinaria Insonia Vomito\",\"2022-12-24\",75),\n",
        "  (\"Quedas_de_pressao Incontinencia_urinaria\",\"2023-03-26\",73),\n",
        "  (\"Quedas_de_pressao Incontinencia_urinaria Insonia Vomito\",\"2022-07-30\",9),\n",
        "  (\"Quedas_de_pressao Incontinencia_urinaria\",\"2022-01-10\",37),\n",
        "  (\"Quedas_de_pressao Incontinencia_urinaria Insonia Vomito\",\"2022-11-20\",7),\n",
        "  (\"Quedas_de_pressao Incontinencia_urinaria Insonia Vomito\",\"2022-04-05\",25),\n",
        "  (\"Quedas_de_pressao Incontinencia_urinaria Insonia Vomito\",\"2023-10-28\",87),\n",
        "  (\"Quedas_de_pressao Incontinencia_urinaria Insonia\",\"2021-06-12\",28),\n",
        "  (\"Quedas_de_pressao Incontinencia_urinaria\",\"2023-03-16\",73),\n",
        "  (\"Quedas_de_pressao\",\"2022-05-16\",32),\n",
        "  (\"Quedas_de_pressao Incontinencia_urinaria Insonia\",\"2022-05-08\",77),\n",
        "  (\"Quedas_de_pressao\",\"2022-02-19\",86),\n",
        "  (\"Quedas_de_pressao Incontinencia_urinaria\",\"2021-05-05\",87),\n",
        "  (\"Quedas_de_pressao Incontinencia_urinaria\",\"2022-02-15\",63),\n",
        "  (\"Quedas_de_pressao Incontinencia_urinaria Insonia Vomito\",\"2022-12-09\",58),\n",
        "  (\"Quedas_de_pressao Incontinencia_urinaria Insonia\",\"2022-10-24\",99),\n",
        "  (\"Quedas_de_pressao\",\"2022-02-06\",38),\n",
        "  (\"Quedas_de_pressao Incontinencia_urinaria\",\"2022-03-12\",13),\n",
        "  (\"Quedas_de_pressao Incontinencia_urinaria Insonia Vomito Lapsos_de_memoria\",\"2022-04-16\",87),\n",
        "  (\"Quedas_de_pressao Incontinencia_urinaria Insonia Vomito\",\"2023-09-15\",89),\n",
        "  (\"Quedas_de_pressao Incontinencia_urinaria Insonia\",\"2021-07-17\",12),\n",
        "  (\"Quedas_de_pressao Incontinencia_urinaria Insonia\",\"2021-01-24\",17),\n",
        "  (\"Quedas_de_pressao Incontinencia_urinaria Insonia Vomito\",\"2021-01-22\",4),\n",
        "  (\"Quedas_de_pressao Incontinencia_urinaria Insonia\",\"2021-12-04\",72),\n",
        "  (\"Quedas_de_pressao Incontinencia_urinaria Insonia\",\"2023-04-22\",28),\n",
        "  (\"Quedas_de_pressao Incontinencia_urinaria Insonia\",\"2023-02-14\",46),\n",
        "  (\"Quedas_de_pressao Incontinencia_urinaria\",\"2022-05-06\",84),\n",
        "  (\"Quedas_de_pressao\",\"2021-07-20\",67),\n",
        "  (\"Quedas_de_pressao Incontinencia_urinaria Insonia Vomito\",\"2022-04-01\",58),\n",
        "  (\"Quedas_de_pressao Incontinencia_urinaria Insonia\",\"2022-09-09\",66),\n",
        "  (\"Quedas_de_pressao Incontinencia_urinaria Insonia\",\"2021-06-28\",40),\n",
        "  (\"Quedas_de_pressao Incontinencia_urinaria Insonia Vomito\",\"2023-06-20\",98),\n",
        "  (\"Quedas_de_pressao\",\"2022-10-13\",15),\n",
        "  (\"Quedas_de_pressao Incontinencia_urinaria Insonia\",\"2023-02-15\",30),\n",
        "  (\"Quedas_de_pressao Incontinencia_urinaria Insonia Vomito Lapsos_de_memoria\",\"2021-03-31\",16),\n",
        "  (\"Quedas_de_pressao\",\"2022-08-29\",60),\n",
        "  (\"Quedas_de_pressao Incontinencia_urinaria\",\"2022-01-13\",48),\n",
        "  (\"Quedas_de_pressao Incontinencia_urinaria\",\"2022-10-22\",44),\n",
        "  (\"Quedas_de_pressao Incontinencia_urinaria\",\"2021-06-27\",79),\n",
        "  (\"Quedas_de_pressao Incontinencia_urinaria Insonia\",\"2021-11-18\",26),\n",
        "  (\"Quedas_de_pressao Incontinencia_urinaria Insonia Vomito\",\"2022-02-27\",29),\n",
        "  (\"Quedas_de_pressao Incontinencia_urinaria Insonia Vomito\",\"2022-04-11\",95),\n",
        "  (\"Quedas_de_pressao Incontinencia_urinaria Insonia Vomito Lapsos_de_memoria\",\"2022-02-09\",39),\n",
        "  (\"Quedas_de_pressao Incontinencia_urinaria Insonia Vomito\",\"2023-05-27\",26),\n",
        "  (\"Quedas_de_pressao Incontinencia_urinaria\",\"2023-08-26\",96),\n",
        "  (\"Quedas_de_pressao Incontinencia_urinaria Insonia\",\"2022-04-20\",23),\n",
        "  (\"Quedas_de_pressao\",\"2023-10-27\",99),\n",
        "  (\"Quedas_de_pressao Incontinencia_urinaria Insonia Vomito Lapsos_de_memoria\",\"2021-01-25\",27),\n",
        "  (\"Quedas_de_pressao\",\"2023-03-31\",50),\n",
        "  (\"Quedas_de_pressao Incontinencia_urinaria Insonia\",\"2023-07-18\",52),\n",
        "  (\"Quedas_de_pressao Incontinencia_urinaria Insonia\",\"2023-09-22\",22),\n",
        "  (\"Quedas_de_pressao Incontinencia_urinaria\",\"2023-04-12\",34),\n",
        "  (\"Quedas_de_pressao Incontinencia_urinaria Insonia Vomito\",\"2022-08-03\",24),\n",
        "  (\"Quedas_de_pressao Incontinencia_urinaria\",\"2021-09-19\",72),\n",
        "  (\"Quedas_de_pressao Incontinencia_urinaria\",\"2022-04-13\",10),\n",
        "  (\"Quedas_de_pressao\",\"2022-02-17\",55),\n",
        "  (\"Quedas_de_pressao Incontinencia_urinaria Insonia Vomito\",\"2022-07-11\",23),\n",
        "  (\"Quedas_de_pressao\",\"2022-06-30\",96),\n",
        "  (\"Quedas_de_pressao Incontinencia_urinaria\",\"2022-04-11\",52),\n",
        "  (\"Quedas_de_pressao Incontinencia_urinaria Insonia Vomito\",\"2021-06-19\",63),\n",
        "  (\"Quedas_de_pressao\",\"2022-08-21\",38),\n",
        "  (\"Quedas_de_pressao Incontinencia_urinaria Insonia\",\"2023-06-24\",18),\n",
        "  (\"Quedas_de_pressao Incontinencia_urinaria Insonia\",\"2021-06-05\",97),\n",
        "  (\"Quedas_de_pressao Incontinencia_urinaria Insonia\",\"2021-03-20\",27),\n",
        "  (\"Quedas_de_pressao Incontinencia_urinaria Insonia Vomito\",\"2021-12-13\",47),\n",
        "  (\"Quedas_de_pressao Incontinencia_urinaria Insonia\",\"2022-05-23\",37),\n",
        "  (\"Quedas_de_pressao Incontinencia_urinaria Insonia Vomito\",\"2023-05-27\",25),\n",
        "  (\"Quedas_de_pressao Incontinencia_urinaria Insonia Vomito Lapsos_de_memoria\",\"2022-06-16\",19),\n",
        "  (\"Quedas_de_pressao Incontinencia_urinaria\",\"2021-10-24\",96),\n",
        "  (\"Quedas_de_pressao\",\"2021-11-07\",91),\n",
        "  (\"Quedas_de_pressao Incontinencia_urinaria Insonia\",\"2023-09-18\",12),\n",
        "  (\"Quedas_de_pressao Incontinencia_urinaria Insonia Vomito\",\"2021-09-21\",83),\n",
        "  (\"Quedas_de_pressao Incontinencia_urinaria\",\"2023-04-23\",54),\n",
        "  (\"Quedas_de_pressao Incontinencia_urinaria Insonia Vomito\",\"2021-03-09\",66),\n",
        "  (\"Quedas_de_pressao\",\"2021-04-14\",73),\n",
        "  (\"Quedas_de_pressao Incontinencia_urinaria Insonia Vomito\",\"2022-02-25\",1),\n",
        "  (\"Quedas_de_pressao Incontinencia_urinaria Insonia Vomito\",\"2021-01-15\",84),\n",
        "  (\"Quedas_de_pressao\",\"2022-04-15\",6),\n",
        "  (\"Quedas_de_pressao Incontinencia_urinaria Insonia Vomito\",\"2022-08-06\",9),\n",
        "  (\"Quedas_de_pressao Incontinencia_urinaria Insonia\",\"2023-10-04\",91),\n",
        "  (\"Quedas_de_pressao Incontinencia_urinaria\",\"2022-05-11\",10),\n",
        "  (\"Quedas_de_pressao Incontinencia_urinaria\",\"2023-07-14\",2),\n",
        "  (\"Quedas_de_pressao Incontinencia_urinaria Insonia Vomito Lapsos_de_memoria\",\"2022-01-09\",62),\n",
        "  (\"Quedas_de_pressao\",\"2022-06-03\",2),\n",
        "  (\"Quedas_de_pressao Incontinencia_urinaria\",\"2021-01-29\",81),\n",
        "  (\"Quedas_de_pressao Incontinencia_urinaria Insonia Vomito\",\"2022-01-31\",93),\n",
        "  (\"Quedas_de_pressao Incontinencia_urinaria Insonia\",\"2022-05-16\",48),\n",
        "  (\"Quedas_de_pressao Incontinencia_urinaria Insonia Vomito Lapsos_de_memoria\",\"2023-07-03\",72),\n",
        "  (\"Quedas_de_pressao Incontinencia_urinaria Insonia Vomito\",\"2021-08-20\",84),\n",
        "  (\"Quedas_de_pressao Incontinencia_urinaria Insonia Vomito Lapsos_de_memoria\",\"2021-10-30\",30),\n",
        "  (\"Quedas_de_pressao Incontinencia_urinaria Insonia Vomito\",\"2023-10-05\",17),\n",
        "  (\"Quedas_de_pressao Incontinencia_urinaria Insonia Vomito\",\"2023-08-22\",37),\n",
        "  (\"Quedas_de_pressao Incontinencia_urinaria Insonia Vomito\",\"2021-06-17\",50),\n",
        "  (\"Quedas_de_pressao Incontinencia_urinaria\",\"2022-01-25\",51),\n",
        "  (\"Quedas_de_pressao Incontinencia_urinaria Insonia Vomito\",\"2023-01-10\",28)\n",
        "]"
      ],
      "metadata": {
        "id": "scb3LyEfHKiC"
      },
      "execution_count": null,
      "outputs": []
    },
    {
      "cell_type": "code",
      "source": [
        "#POVOAMENTO DA TABELA\n",
        "\n",
        "conn = mysql.connector.connect(user='root', password='root', host='localhost', database='Base_dados')\n",
        "cursor = conn.cursor()\n",
        "\n",
        " #Inserindo os dados na tabela criada tab_sintomas\n",
        "query = \"INSERT INTO tab_sintomas (Sintoma, Data, Cliente_id) VALUES ( %s,%s, %s)\"\n",
        "\n",
        "for registro in inserir_sintomas:\n",
        "  cursor.execute(query, registro)\n",
        "\n",
        "\n",
        "# Commit the changes\n",
        "conn.commit()\n",
        "\n",
        "cursor.close()\n",
        "conn.close()"
      ],
      "metadata": {
        "id": "GyX7HfCqHgP4"
      },
      "execution_count": null,
      "outputs": []
    },
    {
      "cell_type": "code",
      "source": [
        "#VERIFICAÇÃO DOS DADOS INSERIDOS\n",
        "\n",
        "conn = mysql.connector.connect(user='root', password='root', host='localhost', database='Base_dados')\n",
        "cursor = conn.cursor()\n",
        "\n",
        "# Verificando os dados com uma query.\n",
        "cursor.execute(\"SELECT * FROM tab_sintomas\")\n",
        "\n",
        "# Buscando todos os dados e passando para variavel \"records\"\n",
        "records = cursor.fetchall()\n",
        "\n",
        "#Apresentando o que foi gravado\n",
        "for record in records:\n",
        "    print(record)\n",
        "\n",
        "cursor.close()\n",
        "conn.close()"
      ],
      "metadata": {
        "id": "H0mT8XqZKtYE"
      },
      "execution_count": null,
      "outputs": []
    },
    {
      "cell_type": "code",
      "source": [],
      "metadata": {
        "id": "OTjHCsjZR6Uh"
      },
      "execution_count": null,
      "outputs": []
    }
  ]
}